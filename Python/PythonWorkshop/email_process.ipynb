{
 "cells": [
  {
   "cell_type": "code",
   "execution_count": 1,
   "metadata": {
    "collapsed": true
   },
   "outputs": [],
   "source": [
    "import smtplib"
   ]
  },
  {
   "cell_type": "code",
   "execution_count": 2,
   "outputs": [],
   "source": [
    "from email.mime.text import MIMEText"
   ],
   "metadata": {
    "collapsed": false,
    "pycharm": {
     "name": "#%%\n"
    }
   }
  },
  {
   "cell_type": "code",
   "execution_count": 3,
   "outputs": [],
   "source": [
    "# 시스템 라이브러리 활용 패키지\n",
    "import os\n",
    "# 이메일 메시지에 형식을 활용하기 위한 패키지\n",
    "from email.mime.multipart import MIMEMultipart\n",
    "\n",
    "# 이메일 메시지 프로토콜 처리기(인코더)\n",
    "from email import encoders\n",
    "\n",
    "# 텍스트 형식 메일\n",
    "from email.mime.text import MIMEText\n",
    "\n",
    "# 이미지 형식 메일\n",
    "from email.mime.image import MIMEImage\n",
    "\n",
    "# 오디오 형식 메일\n",
    "from email.mime.audio import MIMEAudio\n",
    "\n",
    "# 이 모든 정보들을 관장하는 객체\n",
    "from email.mime.base import MIMEBase"
   ],
   "metadata": {
    "collapsed": false,
    "pycharm": {
     "name": "#%%\n"
    }
   }
  },
  {
   "cell_type": "code",
   "execution_count": 5,
   "outputs": [],
   "source": [
    "def send_email(smtp_info, msg):\n",
    "    with smtplib.SMTP(smtp_info[\"smtp_server\"], smtp_info[\"smtp_port\"]) as server:\n",
    "        # TLS 보안 설정 및 시작 (보안 정책상 필수)\n",
    "        server.starttls()\n",
    "\n",
    "        # 로그인\n",
    "        server.login(smtp_info[\"smtp_user_id\"], smtp_info[\"smtp_user_pw\"])\n",
    "\n",
    "        # 이메일 전송\n",
    "        # 메시지 전송시 반드시 as_string()으로 변환하여 전송해야함\n",
    "        res = server.sendmail(msg['from'], msg['to'], msg.as_string())\n",
    "\n",
    "        if not res:\n",
    "            print('이메일 전송 성공!!!')\n",
    "        else:\n",
    "            print(res)"
   ],
   "metadata": {
    "collapsed": false,
    "pycharm": {
     "name": "#%%\n"
    }
   }
  },
  {
   "cell_type": "code",
   "execution_count": 10,
   "outputs": [
    {
     "name": "stdout",
     "output_type": "stream",
     "text": [
      "이메일 전송 성공!!!\n"
     ]
    }
   ],
   "source": [
    "smtp_info = dict({\n",
    "    \"smtp_server\": \"smtp.naver.com\",\n",
    "    \"smtp_user_id\": \"ekankr2@naver.com\",\n",
    "    \"smtp_user_pw\": \"\",\n",
    "    \"smtp_port\" : 587\n",
    "})\n",
    "\n",
    "title = \"가즈아!!!!!!!\"\n",
    "content = \"날아오르라 주식이여!!!!!\"\n",
    "sender = smtp_info['smtp_user_id']\n",
    "receiver = 'ekankr2@gmail.com'\n",
    "\n",
    "msg = MIMEText(_text = content, _charset = \"utf-8\")\n",
    "\n",
    "msg['Subject'] = title\n",
    "msg['From'] = sender\n",
    "msg['To'] = receiver\n",
    "\n",
    "send_email(smtp_info, msg)"
   ],
   "metadata": {
    "collapsed": false,
    "pycharm": {
     "name": "#%%\n"
    }
   }
  },
  {
   "cell_type": "code",
   "execution_count": null,
   "outputs": [],
   "source": [],
   "metadata": {
    "collapsed": false,
    "pycharm": {
     "name": "#%%\n"
    }
   }
  }
 ],
 "metadata": {
  "kernelspec": {
   "display_name": "Python 3",
   "language": "python",
   "name": "python3"
  },
  "language_info": {
   "codemirror_mode": {
    "name": "ipython",
    "version": 2
   },
   "file_extension": ".py",
   "mimetype": "text/x-python",
   "name": "python",
   "nbconvert_exporter": "python",
   "pygments_lexer": "ipython2",
   "version": "2.7.6"
  }
 },
 "nbformat": 4,
 "nbformat_minor": 0
}