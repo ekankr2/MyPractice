{
 "cells": [
  {
   "cell_type": "code",
   "execution_count": 2,
   "metadata": {
    "collapsed": true,
    "pycharm": {
     "name": "#%%\n"
    }
   },
   "outputs": [
    {
     "name": "stdout",
     "output_type": "stream",
     "text": [
      "Requirement already satisfied: selenium in c:\\java_work\\mypractice\\python\\pythonworkshop\\venv\\lib\\site-packages (3.141.0)\n",
      "Requirement already satisfied: urllib3 in c:\\java_work\\mypractice\\python\\pythonworkshop\\venv\\lib\\site-packages (from selenium) (1.26.7)\n"
     ]
    }
   ],
   "source": [
    "!pip install selenium"
   ]
  },
  {
   "cell_type": "code",
   "execution_count": 3,
   "outputs": [],
   "source": [
    "import selenium"
   ],
   "metadata": {
    "collapsed": false,
    "pycharm": {
     "name": "#%%\n"
    }
   }
  },
  {
   "cell_type": "code",
   "execution_count": 4,
   "outputs": [],
   "source": [
    "from selenium import webdriver"
   ],
   "metadata": {
    "collapsed": false,
    "pycharm": {
     "name": "#%%\n"
    }
   }
  },
  {
   "cell_type": "code",
   "execution_count": 5,
   "outputs": [],
   "source": [
    "url = 'https://www.youtube.com/'\n",
    "\n",
    "driver = webdriver.Chrome(r\"C:\\chromedriver.exe\")\n",
    "driver.get(url = url)"
   ],
   "metadata": {
    "collapsed": false,
    "pycharm": {
     "name": "#%%\n"
    }
   }
  },
  {
   "cell_type": "code",
   "execution_count": 6,
   "outputs": [
    {
     "name": "stdout",
     "output_type": "stream",
     "text": [
      "https://www.youtube.com/\n",
      "YouTube\n"
     ]
    }
   ],
   "source": [
    "print(driver.current_url)\n",
    "print(driver.title)"
   ],
   "metadata": {
    "collapsed": false,
    "pycharm": {
     "name": "#%%\n"
    }
   }
  },
  {
   "cell_type": "code",
   "execution_count": 8,
   "outputs": [
    {
     "name": "stdout",
     "output_type": "stream",
     "text": [
      "[<selenium.webdriver.remote.webelement.WebElement (session=\"1b3c9496c16131cf6eeb6ff07af26f5d\", element=\"496af9eb-cb7a-4c65-a170-b82b72c12e8a\")>, <selenium.webdriver.remote.webelement.WebElement (session=\"1b3c9496c16131cf6eeb6ff07af26f5d\", element=\"be7a9723-503f-4eda-8c3d-4b16260cb03a\")>, <selenium.webdriver.remote.webelement.WebElement (session=\"1b3c9496c16131cf6eeb6ff07af26f5d\", element=\"f506ef1c-0310-4e79-a4cf-c32d709b4159\")>, <selenium.webdriver.remote.webelement.WebElement (session=\"1b3c9496c16131cf6eeb6ff07af26f5d\", element=\"b79f1c7b-3a78-4ecb-ab3e-dc0eea30ebf8\")>, <selenium.webdriver.remote.webelement.WebElement (session=\"1b3c9496c16131cf6eeb6ff07af26f5d\", element=\"1610923b-c72b-445f-aa90-7f80e377469a\")>, <selenium.webdriver.remote.webelement.WebElement (session=\"1b3c9496c16131cf6eeb6ff07af26f5d\", element=\"8fbc5808-b53d-4dab-a947-70185d19e6e8\")>, <selenium.webdriver.remote.webelement.WebElement (session=\"1b3c9496c16131cf6eeb6ff07af26f5d\", element=\"db3658dc-b079-45d0-92d7-eec327182e02\")>, <selenium.webdriver.remote.webelement.WebElement (session=\"1b3c9496c16131cf6eeb6ff07af26f5d\", element=\"698edeea-b128-4fd0-8dbf-4c88e6e2e563\")>, <selenium.webdriver.remote.webelement.WebElement (session=\"1b3c9496c16131cf6eeb6ff07af26f5d\", element=\"24adb7a2-f5dc-43ed-8506-c3551419703d\")>, <selenium.webdriver.remote.webelement.WebElement (session=\"1b3c9496c16131cf6eeb6ff07af26f5d\", element=\"9d7219df-8e04-4964-b789-5008b9858671\")>, <selenium.webdriver.remote.webelement.WebElement (session=\"1b3c9496c16131cf6eeb6ff07af26f5d\", element=\"99b4fccb-99e9-460a-9a84-bc29a30a89e8\")>, <selenium.webdriver.remote.webelement.WebElement (session=\"1b3c9496c16131cf6eeb6ff07af26f5d\", element=\"b3faf713-5e0d-4aee-9a10-2309a70483e2\")>, <selenium.webdriver.remote.webelement.WebElement (session=\"1b3c9496c16131cf6eeb6ff07af26f5d\", element=\"374575cd-c26c-4656-b0ea-30f17c3eeef4\")>, <selenium.webdriver.remote.webelement.WebElement (session=\"1b3c9496c16131cf6eeb6ff07af26f5d\", element=\"873ed08e-6819-491d-b720-e856e8279bb0\")>, <selenium.webdriver.remote.webelement.WebElement (session=\"1b3c9496c16131cf6eeb6ff07af26f5d\", element=\"20fdcd9e-44a8-4aae-9736-795d0304783f\")>, <selenium.webdriver.remote.webelement.WebElement (session=\"1b3c9496c16131cf6eeb6ff07af26f5d\", element=\"45e03559-7499-41bb-8dc2-4e37d8d83e5c\")>, <selenium.webdriver.remote.webelement.WebElement (session=\"1b3c9496c16131cf6eeb6ff07af26f5d\", element=\"d1fcc763-e067-4339-95a1-c50d967426c0\")>, <selenium.webdriver.remote.webelement.WebElement (session=\"1b3c9496c16131cf6eeb6ff07af26f5d\", element=\"1f00fd63-ca12-452b-bd20-9053ee39bd2c\")>, <selenium.webdriver.remote.webelement.WebElement (session=\"1b3c9496c16131cf6eeb6ff07af26f5d\", element=\"2f5ff4e3-7338-463d-8b67-628fa833f12b\")>, <selenium.webdriver.remote.webelement.WebElement (session=\"1b3c9496c16131cf6eeb6ff07af26f5d\", element=\"1b9a0771-6a9c-4fba-8f17-85a4cfe728a2\")>, <selenium.webdriver.remote.webelement.WebElement (session=\"1b3c9496c16131cf6eeb6ff07af26f5d\", element=\"170a58a8-7470-498f-8bfe-0794321acadf\")>, <selenium.webdriver.remote.webelement.WebElement (session=\"1b3c9496c16131cf6eeb6ff07af26f5d\", element=\"12ffc0b6-f305-49e9-b335-a91abde2ac2c\")>, <selenium.webdriver.remote.webelement.WebElement (session=\"1b3c9496c16131cf6eeb6ff07af26f5d\", element=\"90cab776-191a-4ce1-a874-decfbf0bcb74\")>, <selenium.webdriver.remote.webelement.WebElement (session=\"1b3c9496c16131cf6eeb6ff07af26f5d\", element=\"57712166-96e2-4688-84f1-442aa4f3a611\")>, <selenium.webdriver.remote.webelement.WebElement (session=\"1b3c9496c16131cf6eeb6ff07af26f5d\", element=\"0611c41a-6bea-40b4-9f18-388d1e0053d5\")>, <selenium.webdriver.remote.webelement.WebElement (session=\"1b3c9496c16131cf6eeb6ff07af26f5d\", element=\"0f6d1359-2d5b-4e96-bf35-0b64df36d5fc\")>, <selenium.webdriver.remote.webelement.WebElement (session=\"1b3c9496c16131cf6eeb6ff07af26f5d\", element=\"aad3af17-7987-4dd4-b55f-7561d079668b\")>, <selenium.webdriver.remote.webelement.WebElement (session=\"1b3c9496c16131cf6eeb6ff07af26f5d\", element=\"638a3cd7-5818-480c-8089-11580253906f\")>, <selenium.webdriver.remote.webelement.WebElement (session=\"1b3c9496c16131cf6eeb6ff07af26f5d\", element=\"e594b5f1-a129-470d-b07b-a55bc3336959\")>, <selenium.webdriver.remote.webelement.WebElement (session=\"1b3c9496c16131cf6eeb6ff07af26f5d\", element=\"52253329-572b-468f-b83d-759ccc3fec7d\")>, <selenium.webdriver.remote.webelement.WebElement (session=\"1b3c9496c16131cf6eeb6ff07af26f5d\", element=\"1801fe6a-207a-4691-bdf2-3f59d7612799\")>, <selenium.webdriver.remote.webelement.WebElement (session=\"1b3c9496c16131cf6eeb6ff07af26f5d\", element=\"02e22bd1-0279-414b-9fa1-6aea38bd2c3e\")>, <selenium.webdriver.remote.webelement.WebElement (session=\"1b3c9496c16131cf6eeb6ff07af26f5d\", element=\"493c95c8-5621-4141-b789-b056f8c1d39c\")>, <selenium.webdriver.remote.webelement.WebElement (session=\"1b3c9496c16131cf6eeb6ff07af26f5d\", element=\"2d212ea9-6d46-448f-a44e-fc6f5b9a2cd5\")>]\n"
     ]
    }
   ],
   "source": [
    "import time\n",
    "\n",
    "allContents = driver.find_elements_by_css_selector(\n",
    "    \"#contents > ytd-rich-item-renderer > div > ytd-rich-grid-media > div > ytd-thumbnail > a\"\n",
    ")\n",
    "print(allContents)\n",
    "\n",
    "for item in allContents:\n",
    "    item.click()\n",
    "    time.sleep(10)\n",
    "    driver.back()"
   ],
   "metadata": {
    "collapsed": false,
    "pycharm": {
     "name": "#%%\n"
    }
   }
  },
  {
   "cell_type": "code",
   "execution_count": 9,
   "outputs": [
    {
     "name": "stdout",
     "output_type": "stream",
     "text": [
      "접속하고자 하는 경로:  https://www.youtube.com/watch?v=SgrBMreVPD8\n",
      "접속하고자 하는 경로:  https://www.youtube.com/watch?v=IAR2sYyMuiE\n",
      "접속하고자 하는 경로:  https://www.youtube.com/watch?v=YXWu-18u5bE\n",
      "접속하고자 하는 경로:  https://www.youtube.com/watch?v=KsVC_QQPg60\n",
      "접속하고자 하는 경로:  https://www.youtube.com/watch?v=c5JQp6xafqc\n",
      "접속하고자 하는 경로:  https://www.youtube.com/watch?v=teW4t31VMMA\n",
      "접속하고자 하는 경로:  https://www.youtube.com/watch?v=SiDbWgrSCk4\n",
      "접속하고자 하는 경로:  https://www.youtube.com/watch?v=qo9Ri1qPInM\n",
      "접속하고자 하는 경로:  https://www.youtube.com/watch?v=moWz-iJt21A\n",
      "접속하고자 하는 경로:  https://www.youtube.com/watch?v=8rd_E4cmcBg\n",
      "접속하고자 하는 경로:  https://www.youtube.com/watch?v=MekcRhHVUhc\n",
      "접속하고자 하는 경로:  https://www.youtube.com/watch?v=ilwXwzva0EY\n",
      "접속하고자 하는 경로:  https://www.youtube.com/watch?v=NIZGjl7fqns\n",
      "접속하고자 하는 경로:  https://www.youtube.com/watch?v=ySycKqADmaA\n",
      "접속하고자 하는 경로:  https://www.youtube.com/watch?v=uqtA_MEbYls\n",
      "접속하고자 하는 경로:  https://www.youtube.com/watch?v=6q4DSKFn_k8\n",
      "접속하고자 하는 경로:  https://www.youtube.com/watch?v=iOt5AZmGg5o\n",
      "접속하고자 하는 경로:  https://www.youtube.com/watch?v=P_YbKXmUWds\n",
      "접속하고자 하는 경로:  https://www.youtube.com/watch?v=rTCKB7F8eoU\n",
      "접속하고자 하는 경로:  https://www.youtube.com/watch?v=fhfNQIELN-M\n",
      "접속하고자 하는 경로:  https://www.youtube.com/watch?v=2kWfWo8_7vA\n",
      "접속하고자 하는 경로:  https://www.youtube.com/watch?v=hr2xGbc6jO0\n",
      "접속하고자 하는 경로:  https://www.youtube.com/watch?v=BTDfpCqtqk0\n",
      "접속하고자 하는 경로:  https://www.youtube.com/watch?v=XTkD4VRGMIQ\n",
      "접속하고자 하는 경로:  https://www.youtube.com/watch?v=khbgBdNfQYA\n",
      "접속하고자 하는 경로:  https://www.youtube.com/watch?v=MpEguXeAvjM\n",
      "접속하고자 하는 경로:  https://www.youtube.com/watch?v=_YYQDY_Gyqc\n",
      "접속하고자 하는 경로:  https://www.youtube.com/watch?v=5qap5aO4i9A\n",
      "접속하고자 하는 경로:  https://www.youtube.com/watch?v=_2Ui6MZhNaQ\n",
      "접속하고자 하는 경로:  https://www.youtube.com/watch?v=XQLmFuqVri0\n",
      "접속하고자 하는 경로:  https://www.youtube.com/watch?v=oFuQhfVd-lQ\n",
      "접속하고자 하는 경로:  https://www.youtube.com/watch?v=zZVTZf68s7A\n",
      "접속하고자 하는 경로:  https://www.youtube.com/watch?v=gDIYjtkIgGs\n",
      "접속하고자 하는 경로:  https://www.youtube.com/watch?v=pjKFrk6i0IE\n"
     ]
    }
   ],
   "source": [
    "# URL 확보\n",
    "allContents = driver.find_elements_by_css_selector(\n",
    "    '#contents > ytd-rich-item-renderer > div > ytd-rich-grid-media > div > ytd-thumbnail > a'\n",
    ")\n",
    "\n",
    "\n",
    "for item in allContents:\n",
    "    if (item != ''):\n",
    "        hrefURL = item.get_attribute('href')\n",
    "        print('접속하고자 하는 경로: ', hrefURL)"
   ],
   "metadata": {
    "collapsed": false,
    "pycharm": {
     "name": "#%%\n"
    }
   }
  },
  {
   "cell_type": "code",
   "execution_count": 10,
   "outputs": [
    {
     "name": "stdout",
     "output_type": "stream",
     "text": [
      "['https://www.youtube.com/watch?v=SgrBMreVPD8', 'https://www.youtube.com/watch?v=IAR2sYyMuiE', 'https://www.youtube.com/watch?v=YXWu-18u5bE', 'https://www.youtube.com/watch?v=KsVC_QQPg60', 'https://www.youtube.com/watch?v=c5JQp6xafqc', 'https://www.youtube.com/watch?v=teW4t31VMMA', 'https://www.youtube.com/watch?v=SiDbWgrSCk4', 'https://www.youtube.com/watch?v=qo9Ri1qPInM', 'https://www.youtube.com/watch?v=moWz-iJt21A', 'https://www.youtube.com/watch?v=8rd_E4cmcBg', 'https://www.youtube.com/watch?v=MekcRhHVUhc', 'https://www.youtube.com/watch?v=ilwXwzva0EY', 'https://www.youtube.com/watch?v=NIZGjl7fqns', 'https://www.youtube.com/watch?v=ySycKqADmaA', 'https://www.youtube.com/watch?v=uqtA_MEbYls', 'https://www.youtube.com/watch?v=6q4DSKFn_k8', 'https://www.youtube.com/watch?v=iOt5AZmGg5o', 'https://www.youtube.com/watch?v=P_YbKXmUWds', 'https://www.youtube.com/watch?v=rTCKB7F8eoU', 'https://www.youtube.com/watch?v=fhfNQIELN-M', 'https://www.youtube.com/watch?v=2kWfWo8_7vA', 'https://www.youtube.com/watch?v=hr2xGbc6jO0', 'https://www.youtube.com/watch?v=BTDfpCqtqk0', 'https://www.youtube.com/watch?v=XTkD4VRGMIQ', 'https://www.youtube.com/watch?v=khbgBdNfQYA', 'https://www.youtube.com/watch?v=MpEguXeAvjM', 'https://www.youtube.com/watch?v=_YYQDY_Gyqc', 'https://www.youtube.com/watch?v=5qap5aO4i9A', 'https://www.youtube.com/watch?v=_2Ui6MZhNaQ', 'https://www.youtube.com/watch?v=XQLmFuqVri0', 'https://www.youtube.com/watch?v=oFuQhfVd-lQ', 'https://www.youtube.com/watch?v=zZVTZf68s7A', 'https://www.youtube.com/watch?v=gDIYjtkIgGs', 'https://www.youtube.com/watch?v=pjKFrk6i0IE']\n"
     ]
    }
   ],
   "source": [
    "# URL 확보\n",
    "allContents = driver.find_elements_by_css_selector(\n",
    "    '#contents > ytd-rich-item-renderer > div > ytd-rich-grid-media > div > ytd-thumbnail > a'\n",
    ")\n",
    "\n",
    "hrefURL = []\n",
    "\n",
    "for item in allContents:\n",
    "    if (item != ''):\n",
    "        hrefURL.append(item.get_attribute('href'))\n",
    "\n",
    "print(hrefURL)"
   ],
   "metadata": {
    "collapsed": false,
    "pycharm": {
     "name": "#%%\n"
    }
   }
  },
  {
   "cell_type": "code",
   "execution_count": 11,
   "outputs": [
    {
     "name": "stdout",
     "output_type": "stream",
     "text": [
      "['Z플립2 3통신사 시세대전? 0원', '2021년 하반기 어떤 스마트폰이 나올까? 하반기 스마트폰 기대작 BEST 5 미리보기!', '역대급 스마트폰들의 향연! 2021년 스마트폰 기대작 TOP 6 미리보기!', '10월초(1~10일) 구입 추천 휴대폰입니다.', '노트20보다 더 좋은기능 있는데 80만원 싸다!? 보급형 스마트폰 전쟁. 갤럭시 A32 사용기!', '완전 새로운 삼성 갤럭시 3종 / 슬라이더블 폰, S-폴더블, 17인치 폴더블 + UPC', '갤럭시 S21 & S21 플러스 리뷰: 지금까지 이런 S는 없었다 [4K]', '갤럭시S21 VS 아이폰12 장단점 비교 나에게 맞는 폰은?', '찐텐 나오는 갤럭시S21+ 장기 사용후기 & 케이스 추천 (ENG SUB)', '와우 대박~ 마이린에게 신기한 폰이 생겼어요! 완전 최신! 완전 신기 ♡ LG WING 어떻게 쓰면 좋을까 | 마이린 TV', '2021년 스마트폰/태블릿 사기 전 꼭 봐야하는 영상! 올해 나올 신제품 출시 예정일 총정리. 아무 때나 사지 마세요', \"'나는 다른 노인네하고는 좀 달라!' 최신폰 원하는 시아버지 고부스캔들 24회\", '삼성 갤럭시S22 - 주요 변화 5가지', '자급제폰이 싼지? 약정폰이 싼지? 정확히 알려드립니다.', '노골적인 급나누기? 대부분 알려주지 않는 삼성 갤럭시 노트 20&울트라 차이점 13가지&언빡싱!', \"삼성의 진짜 아이폰 SE 대항마?! 50만원대 '갤럭시 A51 5G' 언빡싱&살펴보기!\", '삼성폰에서 LG 스마트폰의 향기가 느껴진다? 36만원에 구입한 신형 갤럭시 A42 언빡싱!', '엄청 예쁜데.. 쉽게 추천 못 하는 이유? 찐으로 3주 써본 삼성 갤럭시 Z 플립 사용기!', '2021년에 기대되는 최고의 스마트폰 Best 6!! 한눈에 보는 2021 스마트폰!', '위아래로 접히는 갤럭시Z플립 진짜로 샀습니다! 좋은지 나쁜지 사용해보자! - 허팝(Galaxy Z Filp)', '최신폰vs구형폰 낙하실험', '9월중순(11~20일) 구입 추천 휴대폰입니다.', '스마트폰 없어 서러운 중딩 오구오구 [진짜사랑 레전드]', '9월초(1~10일) 구입 추천 휴대폰입니다.', '[몰래카메라] 엄마 아빠만 최신 폰으로 바꿨어요 ㅠㅠ (광고 아님) feat. 갤럭시 노트 20 울트라 | 갤럭시 스튜디오 | 마이린 TV']\n"
     ]
    }
   ],
   "source": [
    "url = 'https://www.youtube.com/results?search_query='\n",
    "\n",
    "driver = webdriver.Chrome(r\"C:\\chromedriver.exe\")\n",
    "\n",
    "text = '최신폰'\n",
    "\n",
    "search_url = url + text\n",
    "driver.get(url = search_url)\n",
    "\n",
    "allTitles = driver.find_elements_by_id(\n",
    "    'video-title'\n",
    ")\n",
    "#print(allTitles)\n",
    "\n",
    "titles = []\n",
    "\n",
    "for item in allTitles:\n",
    "    if (item != ''):\n",
    "        titles.append(item.get_attribute('title'))\n",
    "\n",
    "print(titles)"
   ],
   "metadata": {
    "collapsed": false,
    "pycharm": {
     "name": "#%%\n"
    }
   }
  }
 ],
 "metadata": {
  "kernelspec": {
   "display_name": "Python 3",
   "language": "python",
   "name": "python3"
  },
  "language_info": {
   "codemirror_mode": {
    "name": "ipython",
    "version": 2
   },
   "file_extension": ".py",
   "mimetype": "text/x-python",
   "name": "python",
   "nbconvert_exporter": "python",
   "pygments_lexer": "ipython2",
   "version": "2.7.6"
  }
 },
 "nbformat": 4,
 "nbformat_minor": 0
}