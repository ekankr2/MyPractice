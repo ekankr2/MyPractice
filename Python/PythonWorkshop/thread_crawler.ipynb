{
 "cells": [
  {
   "cell_type": "code",
   "execution_count": 6,
   "metadata": {
    "collapsed": true
   },
   "outputs": [],
   "source": [
    "import os\n",
    "import re\n",
    "import time\n",
    "import socket"
   ]
  },
  {
   "cell_type": "code",
   "execution_count": 7,
   "outputs": [],
   "source": [
    "# 크롤링 결과를 저장하는 파일\n",
    "CRAWLED_RESULT_SAVED_FILE = \"res/crawl_data/result.txt\""
   ],
   "metadata": {
    "collapsed": false,
    "pycharm": {
     "name": "#%%\n"
    }
   }
  },
  {
   "cell_type": "code",
   "execution_count": 8,
   "outputs": [],
   "source": [
    "\n",
    "def record_url_info_thread():\n",
    "    while (True):\n",
    "        f = open(CRAWLED_RESULT_SAVED_FILE, 'w')\n",
    "        print(f.write('test'))\n",
    "        f.close()"
   ],
   "metadata": {
    "collapsed": false,
    "pycharm": {
     "name": "#%%\n"
    }
   }
  },
  {
   "cell_type": "code",
   "execution_count": 9,
   "outputs": [],
   "source": [
    "# record_url_info_thread()"
   ],
   "metadata": {
    "collapsed": false,
    "pycharm": {
     "name": "#%%\n"
    }
   }
  },
  {
   "cell_type": "code",
   "execution_count": 10,
   "outputs": [],
   "source": [
    "from flask import Flask, url_for, request, jsonify, redirect, Response\n",
    "from flask_cors import CORS, cross_origin\n",
    "\n",
    "import json\n",
    "import requests"
   ],
   "metadata": {
    "collapsed": false,
    "pycharm": {
     "name": "#%%\n"
    }
   }
  },
  {
   "cell_type": "code",
   "execution_count": 19,
   "outputs": [
    {
     "name": "stdout",
     "output_type": "stream",
     "text": [
      "Collecting webdriver-manager\n",
      "  Downloading webdriver_manager-3.5.1-py2.py3-none-any.whl (17 kB)\n",
      "Requirement already satisfied: requests in c:\\users\\ekank\\anaconda3\\lib\\site-packages (from webdriver-manager) (2.25.1)\n",
      "Collecting configparser\n",
      "  Downloading configparser-5.0.2-py3-none-any.whl (19 kB)\n",
      "Collecting crayons\n",
      "  Downloading crayons-0.4.0-py2.py3-none-any.whl (4.6 kB)\n",
      "Requirement already satisfied: colorama in c:\\users\\ekank\\anaconda3\\lib\\site-packages (from crayons->webdriver-manager) (0.4.4)\n",
      "Requirement already satisfied: urllib3<1.27,>=1.21.1 in c:\\users\\ekank\\anaconda3\\lib\\site-packages (from requests->webdriver-manager) (1.26.4)\n",
      "Requirement already satisfied: chardet<5,>=3.0.2 in c:\\users\\ekank\\anaconda3\\lib\\site-packages (from requests->webdriver-manager) (4.0.0)\n",
      "Requirement already satisfied: certifi>=2017.4.17 in c:\\users\\ekank\\anaconda3\\lib\\site-packages (from requests->webdriver-manager) (2020.12.5)\n",
      "Requirement already satisfied: idna<3,>=2.5 in c:\\users\\ekank\\anaconda3\\lib\\site-packages (from requests->webdriver-manager) (2.10)\n",
      "Installing collected packages: crayons, configparser, webdriver-manager\n",
      "Successfully installed configparser-5.0.2 crayons-0.4.0 webdriver-manager-3.5.1\n"
     ]
    }
   ],
   "source": [
    "!pip install webdriver-manager"
   ],
   "metadata": {
    "collapsed": false,
    "pycharm": {
     "name": "#%%\n"
    }
   }
  },
  {
   "cell_type": "code",
   "execution_count": 20,
   "outputs": [],
   "source": [
    "import selenium\n",
    "from selenium import webdriver\n",
    "from selenium.webdriver.chrome.service import Service\n",
    "from webdriver_manager.chrome import ChromeDriverManager\n",
    "from selenium.webdriver.common.by import By"
   ],
   "metadata": {
    "collapsed": false,
    "pycharm": {
     "name": "#%%\n"
    }
   }
  },
  {
   "cell_type": "code",
   "execution_count": 12,
   "outputs": [],
   "source": [
    "# 키보드 입력 처리\n",
    "from selenium.webdriver.common.keys import Keys"
   ],
   "metadata": {
    "collapsed": false,
    "pycharm": {
     "name": "#%%\n"
    }
   }
  },
  {
   "cell_type": "code",
   "execution_count": 21,
   "outputs": [],
   "source": [
    "def cont_youtube_crawl_thread(text):\n",
    "    cnt = 0\n",
    "\n",
    "    #url = \"https://www.youtube.com/\"\n",
    "    url = \"https://www.youtube.com/results?search_query=\"\n",
    "\n",
    "    driver = webdriver.Chrome(r\"C:\\chromedriver.exe\")\n",
    "\n",
    "    search_url = url + text\n",
    "    driver.get(url = search_url)\n",
    "\n",
    "    # body 정보 확보\n",
    "    body = driver.find_element_by_tag_name('body')\n",
    "\n",
    "    #hrefURL = []\n",
    "    hrefURL = set()\n",
    "\n",
    "    # 관련 영상 정보\n",
    "    shelfContents = driver.find_elements_by_css_selector(\n",
    "        \"#contents > ytd-shelf-renderer > div > div > ytd-vertical-list-renderer > div > ytd-video-renderer > div > ytd-thumbnail > a\"\n",
    "    )\n",
    "\n",
    "    for item in shelfContents:\n",
    "        if (item != ''):\n",
    "            hrefURL.add(item.get_attribute('href'))\n",
    "\n",
    "    # 무한 스크롤 하여 나머지 정보들 모두 확보\n",
    "    #while (True):\n",
    "    while cnt < 100:\n",
    "        #body.send_keys(Keys.PAGE_DOWN)\n",
    "        body.send_keys(Keys.END)\n",
    "\n",
    "        cnt += 1\n",
    "        print(\"cnt: \", cnt)\n",
    "\n",
    "    allContents = driver.find_elements_by_css_selector(\n",
    "        \"#contents > ytd-item-section-renderer > div > ytd-video-renderer > div > ytd-thumbnail > a\"\n",
    "    )\n",
    "\n",
    "    for item in allContents:\n",
    "        if (item != ''):\n",
    "            hrefURL.add(item.get_attribute('href'))\n",
    "\n",
    "    print(hrefURL)\n",
    "    print(\"크롤링 개수: \", len(hrefURL))\n",
    "\n",
    "    # y축으로 3000 픽셀 이동함\n",
    "    #driver.execute_script(\"window.scrollTo(0, 3000)\")"
   ],
   "metadata": {
    "collapsed": false,
    "pycharm": {
     "name": "#%%\n"
    }
   }
  },
  {
   "cell_type": "code",
   "execution_count": 22,
   "outputs": [],
   "source": [
    "# 현재 상황에서 기록하는 스레드와 크롤링 하는 두 개의 스레드가 있음\n",
    "# 여기에서 어떤 문제점이 발생할 수 있을까 ?\n",
    "\n",
    "# 크롤링하는 스레드 - 검색 키워드를 기반으로 크롤링\n",
    "# 기록하는 스레드 - 크롤링한 URL 저장\n",
    "\n",
    "# 떡대(속도 느림, 수용량 높음) - 많은 양을 한 번에 모아서 이동\n",
    "# 멸치(속도 빠름, 수용량 낮음) - 적은양이지만 중요한 정보를 빠르게 전송하는데 활용"
   ],
   "metadata": {
    "collapsed": false,
    "pycharm": {
     "name": "#%%\n"
    }
   }
  },
  {
   "cell_type": "code",
   "execution_count": 23,
   "outputs": [
    {
     "name": "stderr",
     "output_type": "stream",
     "text": [
      "<ipython-input-21-85772b05cff1>:7: DeprecationWarning: executable_path has been deprecated, please pass in a Service object\n",
      "  driver = webdriver.Chrome(r\"C:\\chromedriver.exe\")\n",
      "<ipython-input-21-85772b05cff1>:13: DeprecationWarning: find_element_by_* commands are deprecated. Please use find_element() instead\n",
      "  body = driver.find_element_by_tag_name('body')\n",
      "<ipython-input-21-85772b05cff1>:19: DeprecationWarning: find_elements_by_* commands are deprecated. Please use find_elements() instead\n",
      "  shelfContents = driver.find_elements_by_css_selector(\n"
     ]
    },
    {
     "name": "stdout",
     "output_type": "stream",
     "text": [
      "cnt:  1\n",
      "cnt:  2\n",
      "cnt:  3\n",
      "cnt:  4\n",
      "cnt:  5\n",
      "cnt:  6\n",
      "cnt:  7\n",
      "cnt:  8\n",
      "cnt:  9\n",
      "cnt:  10\n",
      "cnt:  11\n",
      "cnt:  12\n",
      "cnt:  13\n",
      "cnt:  14\n",
      "cnt:  15\n",
      "cnt:  16\n",
      "cnt:  17\n",
      "cnt:  18\n",
      "cnt:  19\n",
      "cnt:  20\n",
      "cnt:  21\n",
      "cnt:  22\n",
      "cnt:  23\n",
      "cnt:  24\n",
      "cnt:  25\n",
      "cnt:  26\n",
      "cnt:  27\n",
      "cnt:  28\n",
      "cnt:  29\n",
      "cnt:  30\n",
      "cnt:  31\n",
      "cnt:  32\n",
      "cnt:  33\n",
      "cnt:  34\n",
      "cnt:  35\n",
      "cnt:  36\n",
      "cnt:  37\n",
      "cnt:  38\n",
      "cnt:  39\n",
      "cnt:  40\n",
      "cnt:  41\n",
      "cnt:  42\n",
      "cnt:  43\n",
      "cnt:  44\n",
      "cnt:  45\n",
      "cnt:  46\n",
      "cnt:  47\n",
      "cnt:  48\n",
      "cnt:  49\n",
      "cnt:  50\n",
      "cnt:  51\n",
      "cnt:  52\n",
      "cnt:  53\n",
      "cnt:  54\n",
      "cnt:  55\n",
      "cnt:  56\n",
      "cnt:  57\n",
      "cnt:  58\n",
      "cnt:  59\n",
      "cnt:  60\n",
      "cnt:  61\n",
      "cnt:  62\n",
      "cnt:  63\n",
      "cnt:  64\n",
      "cnt:  65\n",
      "cnt:  66\n",
      "cnt:  67\n",
      "cnt:  68\n",
      "cnt:  69\n",
      "cnt:  70\n",
      "cnt:  71\n",
      "cnt:  72\n",
      "cnt:  73\n",
      "cnt:  74\n",
      "cnt:  75\n",
      "cnt:  76\n",
      "cnt:  77\n",
      "cnt:  78\n",
      "cnt:  79\n",
      "cnt:  80\n",
      "cnt:  81\n",
      "cnt:  82\n",
      "cnt:  83\n",
      "cnt:  84\n",
      "cnt:  85\n",
      "cnt:  86\n",
      "cnt:  87\n",
      "cnt:  88\n",
      "cnt:  89\n",
      "cnt:  90\n",
      "cnt:  91\n",
      "cnt:  92\n",
      "cnt:  93\n",
      "cnt:  94\n",
      "cnt:  95\n",
      "cnt:  96\n",
      "cnt:  97\n",
      "cnt:  98\n",
      "cnt:  99\n",
      "cnt:  100\n"
     ]
    },
    {
     "name": "stderr",
     "output_type": "stream",
     "text": [
      "<ipython-input-21-85772b05cff1>:36: DeprecationWarning: find_elements_by_* commands are deprecated. Please use find_elements() instead\n",
      "  allContents = driver.find_elements_by_css_selector(\n"
     ]
    },
    {
     "name": "stdout",
     "output_type": "stream",
     "text": [
      "{'https://www.youtube.com/watch?v=YE5aUwt9mKs', 'https://www.youtube.com/watch?v=OMBjyeSJLqY', 'https://www.youtube.com/watch?v=0Qjb9cFdF-8', 'https://www.youtube.com/watch?v=nJ4zE05C3Hg', 'https://www.youtube.com/watch?v=PbfW-LM1jok', 'https://www.youtube.com/watch?v=o0HDOupqRi4', 'https://www.youtube.com/watch?v=-e4fC_oXvMg', 'https://www.youtube.com/watch?v=XGc_GW57eQM', 'https://www.youtube.com/watch?v=TYko_VKWSJ0', 'https://www.youtube.com/watch?v=YVI-EFbFLtY', 'https://www.youtube.com/watch?v=JLkAv6kwGJw', 'https://www.youtube.com/watch?v=TgbSNSJQhbc', 'https://www.youtube.com/watch?v=SIRv-UeJZXM', 'https://www.youtube.com/watch?v=uuSsrTuLwn4', 'https://www.youtube.com/watch?v=vA7INqLpbkY', 'https://www.youtube.com/watch?v=-XYSZpWvSGs', 'https://www.youtube.com/watch?v=GikEmRsZjhc', 'https://www.youtube.com/watch?v=22_1CRL35Qk', 'https://www.youtube.com/watch?v=BgHNCRSYH5o', 'https://www.youtube.com/watch?v=-lgYmZsFK-U', 'https://www.youtube.com/watch?v=5Pwlfw-yAIU', 'https://www.youtube.com/watch?v=nfbGqacJtmw', 'https://www.youtube.com/watch?v=UUtnh3J8xfQ', 'https://www.youtube.com/watch?v=KqOdmT3TOCw', 'https://www.youtube.com/watch?v=Vb2bb6pZp1g', 'https://www.youtube.com/watch?v=PRikXG8Mcrg', 'https://www.youtube.com/watch?v=gHXDQJK7jRs', 'https://www.youtube.com/watch?v=YaEjRIhdO6A', 'https://www.youtube.com/watch?v=H_R_SvQTw2s', 'https://www.youtube.com/watch?v=BXQPZD1dgBQ', 'https://www.youtube.com/watch?v=z48eJfp_HP4', 'https://www.youtube.com/watch?v=Om0sNK1bbic', 'https://www.youtube.com/watch?v=s48Hq2swDG4', 'https://www.youtube.com/watch?v=d4Oerip31u8', 'https://www.youtube.com/watch?v=9fLQ7A3uiqI', 'https://www.youtube.com/watch?v=wQBuSEgvp3Y', 'https://www.youtube.com/watch?v=prv7Z5_OobE', 'https://www.youtube.com/watch?v=J1pa4irZwEM', 'https://www.youtube.com/watch?v=iBErAhMe9Zw', 'https://www.youtube.com/watch?v=VCWYFgkm1O0', 'https://www.youtube.com/watch?v=7IkGv9asbkQ', 'https://www.youtube.com/watch?v=pzTPfq3b_-E', 'https://www.youtube.com/watch?v=WOKChftHOUA', 'https://www.youtube.com/watch?v=QmUHJcd13fg', 'https://www.youtube.com/watch?v=ePSG2dJvx48', 'https://www.youtube.com/watch?v=9KnTJVQRYag', 'https://www.youtube.com/watch?v=ktK-8XU8UzI', 'https://www.youtube.com/watch?v=Iu-NidMv_Sk', 'https://www.youtube.com/watch?v=4v14c--59OE', 'https://www.youtube.com/watch?v=eoLmdqp3xOA', 'https://www.youtube.com/watch?v=7mPQlzLxmKM', 'https://www.youtube.com/watch?v=K5eD3ccxMUs', 'https://www.youtube.com/watch?v=9X7Gyvmovoc', 'https://www.youtube.com/watch?v=OPYDrbLdNrk', 'https://www.youtube.com/watch?v=Xb5wOgmMVSk', 'https://www.youtube.com/watch?v=-Gu9Yfr1fOk', 'https://www.youtube.com/watch?v=tipAnGvkw20', 'https://www.youtube.com/watch?v=gmd4OnrxR0Q', 'https://www.youtube.com/watch?v=quTEl87uWew', 'https://www.youtube.com/watch?v=gGPVIkSZ8lA', 'https://www.youtube.com/watch?v=yd6RDniWNCE', 'https://www.youtube.com/watch?v=PJ5QuJluIWU', 'https://www.youtube.com/watch?v=5aNHqVXQ4W8'}\n",
      "크롤링 개수:  63\n"
     ]
    }
   ],
   "source": [
    "cont_youtube_crawl_thread(\"시고르자브종\")"
   ],
   "metadata": {
    "collapsed": false,
    "pycharm": {
     "name": "#%%\n"
    }
   }
  },
  {
   "cell_type": "code",
   "execution_count": null,
   "outputs": [],
   "source": [],
   "metadata": {
    "collapsed": false,
    "pycharm": {
     "name": "#%%\n"
    }
   }
  }
 ],
 "metadata": {
  "kernelspec": {
   "name": "pycharm-1b395fd9",
   "language": "python",
   "display_name": "PyCharm (PythonWorkshop)"
  },
  "language_info": {
   "codemirror_mode": {
    "name": "ipython",
    "version": 2
   },
   "file_extension": ".py",
   "mimetype": "text/x-python",
   "name": "python",
   "nbconvert_exporter": "python",
   "pygments_lexer": "ipython2",
   "version": "2.7.6"
  }
 },
 "nbformat": 4,
 "nbformat_minor": 0
}