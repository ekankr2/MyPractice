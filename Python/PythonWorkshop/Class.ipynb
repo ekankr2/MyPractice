{
 "cells": [
  {
   "cell_type": "code",
   "execution_count": 1,
   "metadata": {
    "collapsed": true
   },
   "outputs": [
    {
     "name": "stdout",
     "output_type": "stream",
     "text": [
      "['In', 'Out', 'PyTestClass', '_', '__', '___', '__builtin__', '__builtins__', '__doc__', '__loader__', '__name__', '__package__', '__spec__', '_dh', '_i', '_i1', '_ih', '_ii', '_iii', '_oh', 'exit', 'get_ipython', 'quit']\n",
      "<class 'type'>\n"
     ]
    }
   ],
   "source": [
    "class PyTestClass:\n",
    "    \"\"\"It's for Test Class\"\"\"\n",
    "    pass\n",
    "\n",
    "print(dir())\n",
    "print(type(PyTestClass))"
   ]
  },
  {
   "cell_type": "code",
   "execution_count": 8,
   "outputs": [
    {
     "name": "stdout",
     "output_type": "stream",
     "text": [
      "My name is Default\n",
      "My name is 파이썬3 테스트 클래스\n",
      "My name is 파이썬3 테스트 클래스\n"
     ]
    }
   ],
   "source": [
    "class Person:\n",
    "    Name = \"Default\"\n",
    "\n",
    "    def Print(self):\n",
    "        print(\"My name is {0}\".format(self.Name))\n",
    "\n",
    "p = Person()\n",
    "p.Print()\n",
    "\n",
    "p.Name = \"파이썬3 테스트 클래스\"\n",
    "p.Print()\n",
    "Person.Print(p)"
   ],
   "metadata": {
    "collapsed": false,
    "pycharm": {
     "name": "#%%\n"
    }
   }
  },
  {
   "cell_type": "code",
   "execution_count": 14,
   "outputs": [
    {
     "name": "stdout",
     "output_type": "stream",
     "text": [
      "p Name:  파이썬3 테스트 클래스\n",
      "p2 Name:  Default\n",
      "p title:  Python3 테스트\n",
      "P2 title:  Python3 테스트\n",
      "Person title:  Python3 테스트\n",
      "p age:  20\n"
     ]
    }
   ],
   "source": [
    "p2 = Person()\n",
    "\n",
    "print(\"p Name: \", p.Name)\n",
    "print(\"p2 Name: \", p2.Name)\n",
    "\n",
    "Person.title = \"Python3 테스트\"\n",
    "print(\"p title: \", p.title)\n",
    "print(\"P2 title: \", p2.title)\n",
    "print(\"Person title: \", Person.title)\n",
    "\n",
    "p.age = 20\n",
    "print(\"p age: \", p.age)"
   ],
   "metadata": {
    "collapsed": false,
    "pycharm": {
     "name": "#%%\n"
    }
   }
  },
  {
   "cell_type": "code",
   "execution_count": 18,
   "outputs": [
    {
     "name": "stdout",
     "output_type": "stream",
     "text": [
      "클래스 멤버 아님\n",
      "테스트 메세지\n"
     ]
    }
   ],
   "source": [
    "str1 = \"클래스 멤버 아님\"\n",
    "\n",
    "class NonSelfTest:\n",
    "    str1 = \"\"\n",
    "\n",
    "    def Set(self, msg):\n",
    "        self.str1 = msg\n",
    "\n",
    "    def Print(self):\n",
    "        print(str1)\n",
    "\n",
    "    def WhyUseSelfPrint(self):\n",
    "        print(self.str1)\n",
    "\n",
    "test = NonSelfTest()\n",
    "\n",
    "test.Set(\"테스트 메세지\")\n",
    "test.Print()\n",
    "test.WhyUseSelfPrint()"
   ],
   "metadata": {
    "collapsed": false,
    "pycharm": {
     "name": "#%%\n"
    }
   }
  },
  {
   "cell_type": "code",
   "execution_count": 2,
   "outputs": [
    {
     "name": "stdout",
     "output_type": "stream",
     "text": [
      "생성자! Value =  333\n",
      "소멸자\n",
      "누가 먼저냐?\n"
     ]
    }
   ],
   "source": [
    "class Vehicles:\n",
    "    def __init__(self, value):\n",
    "        self.value = value\n",
    "        print(\"생성자! Value = \" , value)\n",
    "\n",
    "    def __del__(self):\n",
    "        print(\"소멸자\")\n",
    "\n",
    "def test():\n",
    "    v = Vehicles(333)\n",
    "\n",
    "test()\n",
    "print(\"누가 먼저냐?\")"
   ],
   "metadata": {
    "collapsed": false,
    "pycharm": {
     "name": "#%%\n"
    }
   }
  },
  {
   "cell_type": "code",
   "execution_count": 11,
   "outputs": [
    {
     "name": "stdout",
     "output_type": "stream",
     "text": [
      "Info(name: Maron, phone num: 045-607-1852\n",
      "Info(name: Lunar, phone num: 406-708-3821\n",
      "{'name': 'Maron', 'phoneNum': '045-607-1852'}\n",
      "{'name': 'Lunar', 'phoneNum': '406-708-3821', 'subject': 'Electronic Engineering', 'studentId': '7283492'}\n"
     ]
    }
   ],
   "source": [
    "class Person:\n",
    "    def __init__(self, name, phoneNum):\n",
    "        self.name = name\n",
    "        self.phoneNum = phoneNum\n",
    "\n",
    "    def printInfo(self):\n",
    "        print(\"Info(name: {0}, phone num: {1}\".format(self.name, self.phoneNum))\n",
    "\n",
    "# Java extends 상속\n",
    "# Python은 클래스(상속할 클래스 명)\n",
    "\n",
    "class Student(Person):\n",
    "    def __init__(self, name, phoneNum, subject, studentId):\n",
    "        self.name = name\n",
    "        self.phoneNum = phoneNum\n",
    "        self.subject = subject\n",
    "        self.studentId = studentId\n",
    "\n",
    "p = Person(\"Maron\", \"045-607-1852\")\n",
    "s = Student(\"Lunar\", \"406-708-3821\", \"Electronic Engineering\", \"7283492\")\n",
    "\n",
    "p.printInfo()\n",
    "s.printInfo()\n",
    "\n",
    "print(p.__dict__)\n",
    "print(s.__dict__)"
   ],
   "metadata": {
    "collapsed": false,
    "pycharm": {
     "name": "#%%\n"
    }
   }
  },
  {
   "cell_type": "code",
   "execution_count": 14,
   "outputs": [
    {
     "name": "stdout",
     "output_type": "stream",
     "text": [
      "I'm Sub Class: [3]\n",
      "I'm Super Class\n",
      "{'Number': 3}\n"
     ]
    }
   ],
   "source": [
    "# super() 활용법\n",
    "class Parent(object):\n",
    "    def __init__(self,number):\n",
    "        self.Number = number\n",
    "\n",
    "    def printMsg(self):\n",
    "        print(\"I'm Super Class\")\n",
    "\n",
    "class Child(Parent):\n",
    "    def __init__(self, number):\n",
    "        super(Child, self).__init__(number)\n",
    "\n",
    "    def printMsg(self):\n",
    "        print(\"I'm Sub Class: [%s]\" % str(self.Number))\n",
    "        super(Child, self).printMsg()\n",
    "\n",
    "c = Child(3)\n",
    "c.printMsg()\n",
    "\n",
    "print(c.__dict__)"
   ],
   "metadata": {
    "collapsed": false,
    "pycharm": {
     "name": "#%%\n"
    }
   }
  },
  {
   "cell_type": "code",
   "execution_count": 15,
   "outputs": [
    {
     "name": "stdout",
     "output_type": "stream",
     "text": [
      "9 0.782878804575689\n",
      "23 0.11050155047667454\n",
      "14 0.1626601505310984\n",
      "38 0.5923893583542875\n",
      "41 0.9215785013480269\n",
      "9 0.9254882066913473\n",
      "54 0.3720639005724221\n",
      "18 0.01508189156490769\n",
      "43 0.1454581312621771\n",
      "83 0.9504335684783473\n",
      "44 0.32187166942204615\n",
      "80 0.421573916369241\n",
      "77 0.9144550361053708\n",
      "8 0.8205406826220403\n",
      "36 0.8596984867292585\n",
      "2 0.8966156884589827\n",
      "44 0.9516042348222108\n",
      "75 0.30381082093095835\n",
      "19 0.8926240815366886\n",
      "3 0.27319473363648383\n"
     ]
    }
   ],
   "source": [
    "from random import *\n",
    "\n",
    "for i in range(20):\n",
    "    rand_int = randint(1, 100) # 시작, 끝\n",
    "    rand_float = random() # 0 ~ 1 사이\n",
    "    print(rand_int, rand_float)"
   ],
   "metadata": {
    "collapsed": false,
    "pycharm": {
     "name": "#%%\n"
    }
   }
  },
  {
   "cell_type": "code",
   "execution_count": null,
   "outputs": [],
   "source": [],
   "metadata": {
    "collapsed": false,
    "pycharm": {
     "name": "#%%\n"
    }
   }
  }
 ],
 "metadata": {
  "kernelspec": {
   "display_name": "Python 3",
   "language": "python",
   "name": "python3"
  },
  "language_info": {
   "codemirror_mode": {
    "name": "ipython",
    "version": 2
   },
   "file_extension": ".py",
   "mimetype": "text/x-python",
   "name": "python",
   "nbconvert_exporter": "python",
   "pygments_lexer": "ipython2",
   "version": "2.7.6"
  }
 },
 "nbformat": 4,
 "nbformat_minor": 0
}